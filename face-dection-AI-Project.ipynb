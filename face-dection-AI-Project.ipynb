{
 "cells": [
  {
   "cell_type": "code",
   "execution_count": 28,
   "id": "88a69dce-a89d-4938-83a6-ac351ec137ac",
   "metadata": {},
   "outputs": [],
   "source": [
    "# !omz_downloader --name face-detection-adas-0001 --precision FP16"
   ]
  },
  {
   "cell_type": "code",
   "execution_count": 29,
   "id": "437ff27d-8fd3-411b-ac78-7bd4277fab31",
   "metadata": {},
   "outputs": [],
   "source": [
    "import openvino as ov\n",
    "import cv2\n",
    "import numpy as np\n",
    "\n",
    "import matplotlib.pyplot as plt\n",
    "from pathlib import Path"
   ]
  },
  {
   "cell_type": "code",
   "execution_count": 30,
   "id": "960ff10a-ecc8-4ea1-b65c-ead9cb531203",
   "metadata": {},
   "outputs": [
    {
     "data": {
      "text/plain": [
       "['CPU', 'GPU']"
      ]
     },
     "execution_count": 30,
     "metadata": {},
     "output_type": "execute_result"
    }
   ],
   "source": [
    "core = ov.Core()\n",
    "options=core.available_devices\n",
    "\n",
    "options"
   ]
  },
  {
   "cell_type": "code",
   "execution_count": 31,
   "id": "bdc7f148-a7f4-437e-8641-f7df00565e43",
   "metadata": {},
   "outputs": [
    {
     "name": "stdout",
     "output_type": "stream",
     "text": [
      "Input layer shape:  [1,3,384,672]\n",
      "Output layer shape:  [1,1,200,7]\n"
     ]
    }
   ],
   "source": [
    "core = ov.Core()\n",
    "\n",
    "model = core.read_model(model='models/face-detection-adas-0001.xml')\n",
    "face_model = core.compile_model(model=model, device_name='CPU')\n",
    "\n",
    "face_input_layer = face_model.input(0)\n",
    "face_output_layer = face_model.output(0)\n",
    "print('Input layer shape: ', face_input_layer.shape)\n",
    "print('Output layer shape: ', face_output_layer.shape)"
   ]
  },
  {
   "cell_type": "markdown",
   "id": "4d7c74e1-31e3-41cf-9dfa-9aa6e6cec093",
   "metadata": {},
   "source": [
    "https://docs.openvino.ai/2024/omz_models_model_face_detection_adas_0001.html"
   ]
  },
  {
   "cell_type": "code",
   "execution_count": 32,
   "id": "a8f9a5a9-0bfe-4282-ac36-12151789ef18",
   "metadata": {},
   "outputs": [],
   "source": [
    "frame = cv2.imread(\"images/test.jpg\")\n",
    "\n",
    "resized_frame = cv2.resize(src=frame, dsize=(672, 384)) \n",
    "\n",
    "transposed_frame = resized_frame.transpose(2, 0, 1)\n",
    "input_frame = np.expand_dims(transposed_frame, 0)"
   ]
  },
  {
   "cell_type": "code",
   "execution_count": 33,
   "id": "64239682-355f-4876-8cf0-2fd8d13c3083",
   "metadata": {},
   "outputs": [],
   "source": [
    "face_output = face_model([input_frame])[face_output_layer]"
   ]
  },
  {
   "cell_type": "code",
   "execution_count": 34,
   "id": "db89ac7c-b59a-4716-87f4-543026ecf584",
   "metadata": {},
   "outputs": [],
   "source": [
    "def DrawBoundingBoxes(output, image, conf):\n",
    "\n",
    "    canvas = image.copy()\n",
    "    h,w,_ = canvas.shape \n",
    "\n",
    "    predictions = output[0][0]            # 하위 집합 데이터 프레임\n",
    "    confidence = predictions[:,2]         # conf 값 가져오기 [image_id, label, conf, x_min, y_min, x_max, y_max]\n",
    "\n",
    "    top_predictions = predictions[(confidence>conf)]         # 임계값보다 큰 conf 값을 가진 예측만 선택\n",
    "\n",
    "    for detection in top_predictions:\n",
    "        box = detection[3:7] * np.array([w, h, w, h]) # 상자 위치 결정\n",
    "        (xmin, ymin, xmax, ymax) = box.astype(\"int\")  # xmin, ymin, xmax, ymax에 상자 위치 값 지정\n",
    "\n",
    "        cv2.rectangle(canvas, (xmin, ymin), (xmax, ymax), (0, 0, 255), 2)       # 사각형 만들기\n",
    "    \n",
    "   \n",
    "    return canvas"
   ]
  },
  {
   "cell_type": "code",
   "execution_count": 35,
   "id": "b428bc9e-2848-4002-84b3-36cfb4f014ac",
   "metadata": {},
   "outputs": [],
   "source": [
    "canvas = DrawBoundingBox(face_output, frame, conf=0.5)\n",
    "\n",
    "cv2. imshow('Face', canvas)\n",
    "\n",
    "cv2.waitKey(0)\n",
    "cv2.destroyAllWindows()"
   ]
  },
  {
   "cell_type": "code",
   "execution_count": 36,
   "id": "68442e11-4ace-4530-94ef-903c45ddb9c4",
   "metadata": {},
   "outputs": [],
   "source": [
    "def AddBackground(frame, bg):\n",
    "\n",
    "    frame_h, frame_w = frame.shape[0], frame.shape[1]\n",
    "    new_h = 500\n",
    "    new_w = int((new_h/frame_h)*frame_w)\n",
    "    frame_resize = cv2.resize(frame, (new_w, new_h))\n",
    "\n",
    "    xmax = bg.shape[1] - 300\n",
    "    ymax = bg.shape[0] - 175\n",
    "    xmin = xmax - new_w\n",
    "    ymin = ymax - new_h\n",
    "\n",
    "    bg[ymin:ymax, xmin:xmax] = frame_resize\n",
    "\n",
    "    return bg"
   ]
  },
  {
   "cell_type": "code",
   "execution_count": 37,
   "id": "ac86b2c2-7e68-498a-9b67-78a884c0ad16",
   "metadata": {},
   "outputs": [],
   "source": [
    "background = \"./images/Background.jpg\"  #사용할 배경화면 경로\n",
    "canvas = DrawBoundingBoxes(face_output, frame, conf=0.5)  \n",
    "bg = cv2.imread(background)\n",
    "\n",
    "deployment = AddBackground(canvas, bg)\n",
    "cv2.imshow(\"Deployment\", deployment)\n",
    "\n",
    "cv2.waitKey(0)\n",
    "cv2.destroyAllWindows()"
   ]
  },
  {
   "cell_type": "code",
   "execution_count": 42,
   "id": "c8ddb671-1583-41bc-90f3-fd7eb3120d4d",
   "metadata": {},
   "outputs": [],
   "source": [
    "# camera = cv2.VideoCapture(0)\n",
    "camera = cv2.VideoCapture(0)\n",
    "background = \"./images/Background.jpg\"  #사용할 배경화면 경로\n",
    "bg = cv2.imread(background)\n",
    "\n",
    "while(True):\n",
    "    ret, frame = camera.read()\n",
    "    if ret == False:\n",
    "        break;\n",
    "        \n",
    "    # AI 추론을 위한 데이터 전처리\n",
    "    resized_frame = cv2.resize(src=frame, dsize=(672, 384))\n",
    "    transposed_frame = resized_frame.transpose(2, 0, 1)\n",
    "    input_frame = np.expand_dims(transposed_frame, 0)\n",
    "    \n",
    "    # AI 추론    \n",
    "    face_output = face_model([input_frame])[face_output_layer]  # Perform inference  \n",
    "    \n",
    "    # AI 추론 결과 시각화: 박스 그리기            \n",
    "    \n",
    "    canvas = DrawBoundingBoxes(face_output, frame, conf=0.5)        \n",
    "    deployment = AddBackground(canvas, bg)\n",
    "    cv2.imshow(\"Spacebar to Exit\", deployment)\n",
    "    \n",
    "    # # Face_Detection = addBackground(canvas, bg)\n",
    "    # cv2.imshow('Press Spacebar to Ecit', canvas)\n",
    "\n",
    "    # 영상 종료: 스페이스바\n",
    "    if cv2.waitKey(1) & 0xFF == ord(' '):  \n",
    "        break\n",
    "camera.release()\n",
    "cv2.destroyAllWindows()\n"
   ]
  },
  {
   "cell_type": "code",
   "execution_count": null,
   "id": "a476e9ee-49c0-413a-8f58-69877b957dae",
   "metadata": {},
   "outputs": [],
   "source": []
  }
 ],
 "metadata": {
  "kernelspec": {
   "display_name": "Python 3 (ipykernel)",
   "language": "python",
   "name": "python3"
  },
  "language_info": {
   "codemirror_mode": {
    "name": "ipython",
    "version": 3
   },
   "file_extension": ".py",
   "mimetype": "text/x-python",
   "name": "python",
   "nbconvert_exporter": "python",
   "pygments_lexer": "ipython3",
   "version": "3.11.8"
  }
 },
 "nbformat": 4,
 "nbformat_minor": 5
}
